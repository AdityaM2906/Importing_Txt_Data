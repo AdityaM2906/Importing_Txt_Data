{
 "cells": [
  {
   "cell_type": "code",
   "execution_count": 2,
   "id": "b1582466",
   "metadata": {},
   "outputs": [
    {
     "data": {
      "text/plain": [
       "['Aditya', 'Yuvraj', 'Nishad', 'Rahil']"
      ]
     },
     "execution_count": 2,
     "metadata": {},
     "output_type": "execute_result"
    }
   ],
   "source": [
    "Friends = ['Aditya', 'Yuvraj' , 'Nishad' , 'Rahil']\n",
    "Friends"
   ]
  },
  {
   "cell_type": "code",
   "execution_count": 6,
   "id": "a8ac5f3a",
   "metadata": {},
   "outputs": [
    {
     "name": "stdout",
     "output_type": "stream",
     "text": [
      "Aditya\n"
     ]
    }
   ],
   "source": [
    "print(Friends[-4])"
   ]
  },
  {
   "cell_type": "code",
   "execution_count": 7,
   "id": "3e0b7c72",
   "metadata": {},
   "outputs": [
    {
     "data": {
      "text/plain": [
       "['Yuvraj', 'Nishad', 'Rahil']"
      ]
     },
     "execution_count": 7,
     "metadata": {},
     "output_type": "execute_result"
    }
   ],
   "source": [
    "del Friends[0]\n",
    "Friends"
   ]
  },
  {
   "cell_type": "code",
   "execution_count": 8,
   "id": "c26ffb4b",
   "metadata": {},
   "outputs": [],
   "source": [
    "Friends . append('Aditya')"
   ]
  },
  {
   "cell_type": "code",
   "execution_count": 9,
   "id": "1d055e4a",
   "metadata": {},
   "outputs": [
    {
     "data": {
      "text/plain": [
       "['Yuvraj', 'Nishad', 'Rahil', 'Aditya']"
      ]
     },
     "execution_count": 9,
     "metadata": {},
     "output_type": "execute_result"
    }
   ],
   "source": [
    "Friends"
   ]
  },
  {
   "cell_type": "code",
   "execution_count": 10,
   "id": "e131a254",
   "metadata": {},
   "outputs": [
    {
     "data": {
      "text/plain": [
       "['Yuvraj', 'Nishad', 'Rahil', 'Aditya', 'Ravina', 'Ruchi']"
      ]
     },
     "execution_count": 10,
     "metadata": {},
     "output_type": "execute_result"
    }
   ],
   "source": [
    "Friends . extend(['Ravina', \"Ruchi\"])\n",
    "Friends"
   ]
  },
  {
   "cell_type": "code",
   "execution_count": 11,
   "id": "866a0666",
   "metadata": {},
   "outputs": [
    {
     "data": {
      "text/plain": [
       "[1, 2, 3, 4]"
      ]
     },
     "execution_count": 11,
     "metadata": {},
     "output_type": "execute_result"
    }
   ],
   "source": [
    "List = [1 ,2,3,4]\n",
    "List"
   ]
  },
  {
   "cell_type": "code",
   "execution_count": 12,
   "id": "c775a814",
   "metadata": {},
   "outputs": [
    {
     "data": {
      "text/plain": [
       "[2, 3]"
      ]
     },
     "execution_count": 12,
     "metadata": {},
     "output_type": "execute_result"
    }
   ],
   "source": [
    "List[1:3]"
   ]
  },
  {
   "cell_type": "code",
   "execution_count": 13,
   "id": "dc021d2d",
   "metadata": {},
   "outputs": [
    {
     "data": {
      "text/plain": [
       "[1, 2]"
      ]
     },
     "execution_count": 13,
     "metadata": {},
     "output_type": "execute_result"
    }
   ],
   "source": [
    "List[:2]"
   ]
  },
  {
   "cell_type": "code",
   "execution_count": 15,
   "id": "e3afef29",
   "metadata": {},
   "outputs": [
    {
     "data": {
      "text/plain": [
       "[2, 3, 4]"
      ]
     },
     "execution_count": 15,
     "metadata": {},
     "output_type": "execute_result"
    }
   ],
   "source": [
    "List[1:]"
   ]
  },
  {
   "cell_type": "code",
   "execution_count": 17,
   "id": "4eba9afb",
   "metadata": {},
   "outputs": [
    {
     "data": {
      "text/plain": [
       "2"
      ]
     },
     "execution_count": 17,
     "metadata": {},
     "output_type": "execute_result"
    }
   ],
   "source": [
    "List . index(3)"
   ]
  },
  {
   "cell_type": "code",
   "execution_count": 21,
   "id": "6ee3c23a",
   "metadata": {},
   "outputs": [
    {
     "data": {
      "text/plain": [
       "[1, 2, 3, 4]"
      ]
     },
     "execution_count": 21,
     "metadata": {},
     "output_type": "execute_result"
    }
   ],
   "source": [
    "List . sort()\n",
    "List"
   ]
  },
  {
   "cell_type": "code",
   "execution_count": 22,
   "id": "fe339ee0",
   "metadata": {},
   "outputs": [],
   "source": [
    "y = 1,2,3,4,5"
   ]
  },
  {
   "cell_type": "code",
   "execution_count": 23,
   "id": "bae2f979",
   "metadata": {},
   "outputs": [
    {
     "data": {
      "text/plain": [
       "(1, 2, 3, 4, 5)"
      ]
     },
     "execution_count": 23,
     "metadata": {},
     "output_type": "execute_result"
    }
   ],
   "source": [
    "y"
   ]
  },
  {
   "cell_type": "code",
   "execution_count": 24,
   "id": "04820ecf",
   "metadata": {},
   "outputs": [
    {
     "data": {
      "text/plain": [
       "2"
      ]
     },
     "execution_count": 24,
     "metadata": {},
     "output_type": "execute_result"
    }
   ],
   "source": [
    "a, b, c = 1,2,3\n",
    "b"
   ]
  },
  {
   "cell_type": "code",
   "execution_count": 25,
   "id": "5659629c",
   "metadata": {},
   "outputs": [
    {
     "data": {
      "text/plain": [
       "(1, 2, 3)"
      ]
     },
     "execution_count": 25,
     "metadata": {},
     "output_type": "execute_result"
    }
   ],
   "source": [
    "(a,b,c)"
   ]
  },
  {
   "cell_type": "code",
   "execution_count": 26,
   "id": "1e086658",
   "metadata": {},
   "outputs": [
    {
     "data": {
      "text/plain": [
       "(10, 12, 15)"
      ]
     },
     "execution_count": 26,
     "metadata": {},
     "output_type": "execute_result"
    }
   ],
   "source": [
    "x = 10, 12, 15\n",
    "x"
   ]
  },
  {
   "cell_type": "code",
   "execution_count": 28,
   "id": "1c9123c3",
   "metadata": {},
   "outputs": [
    {
     "data": {
      "text/plain": [
       "[(10, 12, 15), (1, 2, 3, 4, 5)]"
      ]
     },
     "execution_count": 28,
     "metadata": {},
     "output_type": "execute_result"
    }
   ],
   "source": [
    "List_1 = [x,y]\n",
    "List_1"
   ]
  },
  {
   "cell_type": "code",
   "execution_count": 34,
   "id": "caa8bf01",
   "metadata": {},
   "outputs": [
    {
     "name": "stdout",
     "output_type": "stream",
     "text": [
      "16\n",
      "2022\n"
     ]
    }
   ],
   "source": [
    "(roll_no, Year_of_school) = '16,2022'.split(',')\n",
    "print(roll_no)\n",
    "print(Year_of_school)"
   ]
  },
  {
   "cell_type": "code",
   "execution_count": 35,
   "id": "f06726e6",
   "metadata": {},
   "outputs": [
    {
     "name": "stdout",
     "output_type": "stream",
     "text": [
      "Area and Perimeter:\n"
     ]
    },
    {
     "data": {
      "text/plain": [
       "(16, 16)"
      ]
     },
     "execution_count": 35,
     "metadata": {},
     "output_type": "execute_result"
    }
   ],
   "source": [
    "def square_info(x):\n",
    "    A = x ** 2\n",
    "    P = 4 * x\n",
    "    print(\"Area and Perimeter:\")\n",
    "    return A,P\n",
    "square_info(4)"
   ]
  },
  {
   "cell_type": "code",
   "execution_count": 36,
   "id": "b7d9a802",
   "metadata": {},
   "outputs": [
    {
     "data": {
      "text/plain": [
       "{'k1': 'Lion', 'k2': 'Tiger', 'k3': 'Shark'}"
      ]
     },
     "execution_count": 36,
     "metadata": {},
     "output_type": "execute_result"
    }
   ],
   "source": [
    "dict = {'k1': \"Lion\", 'k2': \"Tiger\", \"k3\": \"Shark\"}\n",
    "dict"
   ]
  },
  {
   "cell_type": "code",
   "execution_count": 37,
   "id": "ec29e9f7",
   "metadata": {},
   "outputs": [
    {
     "data": {
      "text/plain": [
       "'Lion'"
      ]
     },
     "execution_count": 37,
     "metadata": {},
     "output_type": "execute_result"
    }
   ],
   "source": [
    "dict['k1']"
   ]
  },
  {
   "cell_type": "code",
   "execution_count": 39,
   "id": "652a5436",
   "metadata": {},
   "outputs": [
    {
     "data": {
      "text/plain": [
       "{'k1': 'Lion', 'k2': 'Tiger', 'k3': 'Shark', 'k4': 'Monkey'}"
      ]
     },
     "execution_count": 39,
     "metadata": {},
     "output_type": "execute_result"
    }
   ],
   "source": [
    "dict['k4'] = \"Monkey\"\n",
    "dict"
   ]
  },
  {
   "cell_type": "code",
   "execution_count": 41,
   "id": "3b5e12ea",
   "metadata": {},
   "outputs": [
    {
     "name": "stdout",
     "output_type": "stream",
     "text": [
      "{'Overlord': 'Ainze', 'Raven_Black_Hero': 'Moman', 'leader_of_guardience': 'Albedo'}\n"
     ]
    }
   ],
   "source": [
    "Team = {}\n",
    "Team[\"Overlord\"] = \"Ainze\"\n",
    "Team[\"Raven_Black_Hero\"] = \"Moman\"\n",
    "Team[\"leader_of_guardience\"] = \"Albedo\"\n",
    "print(Team)"
   ]
  },
  {
   "cell_type": "code",
   "execution_count": 42,
   "id": "033f352b",
   "metadata": {},
   "outputs": [
    {
     "name": "stdout",
     "output_type": "stream",
     "text": [
      "Ainze\n"
     ]
    }
   ],
   "source": [
    "print(Team[\"Overlord\"])"
   ]
  },
  {
   "cell_type": "code",
   "execution_count": 43,
   "id": "0443d099",
   "metadata": {},
   "outputs": [
    {
     "name": "stdout",
     "output_type": "stream",
     "text": [
      "Moman\n"
     ]
    }
   ],
   "source": [
    "print(Team.get(\"Raven_Black_Hero\"))"
   ]
  },
  {
   "cell_type": "code",
   "execution_count": 44,
   "id": "8027bde2",
   "metadata": {},
   "outputs": [
    {
     "name": "stdout",
     "output_type": "stream",
     "text": [
      "None\n"
     ]
    }
   ],
   "source": [
    "print(Team.get(\"Shaltear\"))"
   ]
  },
  {
   "cell_type": "code",
   "execution_count": 45,
   "id": "3488bc55",
   "metadata": {},
   "outputs": [],
   "source": [
    "even = [0,2,4,6,8,10,12,14,16,18,20]"
   ]
  },
  {
   "cell_type": "code",
   "execution_count": 47,
   "id": "f0f611f9",
   "metadata": {},
   "outputs": [
    {
     "name": "stdout",
     "output_type": "stream",
     "text": [
      "0 2 4 6 8 10 12 14 16 18 20 "
     ]
    }
   ],
   "source": [
    "for n in even:\n",
    "    print(n, end = \" \")"
   ]
  },
  {
   "cell_type": "code",
   "execution_count": 48,
   "id": "a1cdaeee",
   "metadata": {},
   "outputs": [
    {
     "name": "stdout",
     "output_type": "stream",
     "text": [
      "0 2 4 6 8 10 12 14 16 18 20 "
     ]
    }
   ],
   "source": [
    "x = 0\n",
    "while x <= 20:\n",
    "    print (x, end = \" \")\n",
    "    x = x + 2"
   ]
  },
  {
   "cell_type": "code",
   "execution_count": 50,
   "id": "12af5e1f",
   "metadata": {},
   "outputs": [
    {
     "name": "stdout",
     "output_type": "stream",
     "text": [
      "0 2 4 6 8 10 12 14 16 18 20 "
     ]
    }
   ],
   "source": [
    "x = 0\n",
    "while x <= 20:\n",
    "    print (x, end = \" \")\n",
    "    x += 2"
   ]
  },
  {
   "cell_type": "code",
   "execution_count": 53,
   "id": "ba63bde9",
   "metadata": {},
   "outputs": [
    {
     "data": {
      "text/plain": [
       "range(0, 10, 2)"
      ]
     },
     "execution_count": 53,
     "metadata": {},
     "output_type": "execute_result"
    }
   ],
   "source": [
    "range(0,10,2)"
   ]
  },
  {
   "cell_type": "code",
   "execution_count": 54,
   "id": "9dcee638",
   "metadata": {},
   "outputs": [
    {
     "data": {
      "text/plain": [
       "[0, 2, 4, 6, 8]"
      ]
     },
     "execution_count": 54,
     "metadata": {},
     "output_type": "execute_result"
    }
   ],
   "source": [
    "list(range(0,10,2))"
   ]
  },
  {
   "cell_type": "code",
   "execution_count": 57,
   "id": "2f8dcbb5",
   "metadata": {},
   "outputs": [
    {
     "name": "stdout",
     "output_type": "stream",
     "text": [
      "1 2 4 8 16 32 64 128 256 512 "
     ]
    }
   ],
   "source": [
    "for n in range (10):\n",
    "    print(2 ** n, end = \" \")"
   ]
  },
  {
   "cell_type": "code",
   "execution_count": 59,
   "id": "35432d8e",
   "metadata": {},
   "outputs": [
    {
     "name": "stdout",
     "output_type": "stream",
     "text": [
      "0 Odd 2 Odd 4 Odd 6 Odd 8 Odd 10 Odd 12 Odd 14 Odd 16 Odd 18 Odd "
     ]
    }
   ],
   "source": [
    "for x in range (20):\n",
    "    if x % 2 == 0:\n",
    "        print (x, end = \" \")\n",
    "    else:\n",
    "        print (\"Odd\", end = \" \")"
   ]
  },
  {
   "cell_type": "code",
   "execution_count": 63,
   "id": "a184a534",
   "metadata": {},
   "outputs": [
    {
     "name": "stdout",
     "output_type": "stream",
     "text": [
      "1 23 3 "
     ]
    }
   ],
   "source": [
    "x = [1,23,3]\n",
    "for item in range(len(x)):\n",
    "    print (x[item], end = \" \")"
   ]
  },
  {
   "cell_type": "code",
   "execution_count": null,
   "id": "0a969828",
   "metadata": {},
   "outputs": [],
   "source": []
  }
 ],
 "metadata": {
  "kernelspec": {
   "display_name": "Python 3 (ipykernel)",
   "language": "python",
   "name": "python3"
  },
  "language_info": {
   "codemirror_mode": {
    "name": "ipython",
    "version": 3
   },
   "file_extension": ".py",
   "mimetype": "text/x-python",
   "name": "python",
   "nbconvert_exporter": "python",
   "pygments_lexer": "ipython3",
   "version": "3.10.9"
  }
 },
 "nbformat": 4,
 "nbformat_minor": 5
}
