{
 "cells": [
  {
   "cell_type": "code",
   "execution_count": 1,
   "id": "f5df217e",
   "metadata": {},
   "outputs": [
    {
     "data": {
      "text/plain": [
       "False"
      ]
     },
     "execution_count": 1,
     "metadata": {},
     "output_type": "execute_result"
    }
   ],
   "source": [
    "True and False"
   ]
  },
  {
   "cell_type": "code",
   "execution_count": 2,
   "id": "c8b35159",
   "metadata": {},
   "outputs": [
    {
     "data": {
      "text/plain": [
       "True"
      ]
     },
     "execution_count": 2,
     "metadata": {},
     "output_type": "execute_result"
    }
   ],
   "source": [
    "True or False"
   ]
  },
  {
   "cell_type": "code",
   "execution_count": 3,
   "id": "afbd5562",
   "metadata": {},
   "outputs": [
    {
     "data": {
      "text/plain": [
       "False"
      ]
     },
     "execution_count": 3,
     "metadata": {},
     "output_type": "execute_result"
    }
   ],
   "source": [
    "not True"
   ]
  },
  {
   "cell_type": "code",
   "execution_count": 5,
   "id": "2b802fd0",
   "metadata": {},
   "outputs": [
    {
     "data": {
      "text/plain": [
       "True"
      ]
     },
     "execution_count": 5,
     "metadata": {},
     "output_type": "execute_result"
    }
   ],
   "source": [
    "True or not False and True or False"
   ]
  },
  {
   "cell_type": "code",
   "execution_count": 7,
   "id": "6726377a",
   "metadata": {},
   "outputs": [
    {
     "name": "stderr",
     "output_type": "stream",
     "text": [
      "<>:1: SyntaxWarning: \"is not\" with a literal. Did you mean \"!=\"?\n",
      "<>:1: SyntaxWarning: \"is not\" with a literal. Did you mean \"!=\"?\n",
      "C:\\Users\\Dell\\AppData\\Local\\Temp\\ipykernel_2008\\3860468642.py:1: SyntaxWarning: \"is not\" with a literal. Did you mean \"!=\"?\n",
      "  5 is not 10\n"
     ]
    },
    {
     "data": {
      "text/plain": [
       "True"
      ]
     },
     "execution_count": 7,
     "metadata": {},
     "output_type": "execute_result"
    }
   ],
   "source": [
    "5 is not 10"
   ]
  },
  {
   "cell_type": "code",
   "execution_count": 11,
   "id": "91e10a67",
   "metadata": {},
   "outputs": [
    {
     "data": {
      "text/plain": [
       "False"
      ]
     },
     "execution_count": 11,
     "metadata": {},
     "output_type": "execute_result"
    }
   ],
   "source": [
    "5 > (13-10) and (10 + 4) >= 15"
   ]
  },
  {
   "cell_type": "code",
   "execution_count": 15,
   "id": "a402f04e",
   "metadata": {},
   "outputs": [
    {
     "name": "stdout",
     "output_type": "stream",
     "text": [
      "No go\n"
     ]
    }
   ],
   "source": [
    "if 5 == 5/10:\n",
    "    print('Done')\n",
    "else:\n",
    "    print('No go')"
   ]
  },
  {
   "cell_type": "code",
   "execution_count": 21,
   "id": "ce989453",
   "metadata": {},
   "outputs": [],
   "source": [
    "def compare_to_ten(x):\n",
    "    if x > 10:\n",
    "        return \"Greater\"\n",
    "    elif x < 0:\n",
    "        return \"Negative\"\n",
    "    elif x < 10:\n",
    "        return \"Less\"\n",
    "    else:\n",
    "        return \"Equal\""
   ]
  },
  {
   "cell_type": "code",
   "execution_count": 22,
   "id": "c930f6f4",
   "metadata": {},
   "outputs": [
    {
     "name": "stdout",
     "output_type": "stream",
     "text": [
      "Negative\n"
     ]
    }
   ],
   "source": [
    "print (compare_to_ten(-10))"
   ]
  },
  {
   "cell_type": "code",
   "execution_count": 23,
   "id": "a48267ad",
   "metadata": {},
   "outputs": [
    {
     "name": "stdout",
     "output_type": "stream",
     "text": [
      "Equal\n"
     ]
    }
   ],
   "source": [
    "print (compare_to_ten(10))"
   ]
  },
  {
   "cell_type": "code",
   "execution_count": 24,
   "id": "9b79f194",
   "metadata": {},
   "outputs": [
    {
     "name": "stdout",
     "output_type": "stream",
     "text": [
      "Greater\n"
     ]
    }
   ],
   "source": [
    "print (compare_to_ten(110))"
   ]
  },
  {
   "cell_type": "code",
   "execution_count": 25,
   "id": "b54b801c",
   "metadata": {},
   "outputs": [
    {
     "name": "stdout",
     "output_type": "stream",
     "text": [
      "Less\n"
     ]
    }
   ],
   "source": [
    "print (compare_to_ten(1))"
   ]
  },
  {
   "cell_type": "code",
   "execution_count": 27,
   "id": "0d45a9cf",
   "metadata": {},
   "outputs": [],
   "source": [
    "def simple():\n",
    "    print(\"Simple function\")"
   ]
  },
  {
   "cell_type": "code",
   "execution_count": 28,
   "id": "1ee0d804",
   "metadata": {},
   "outputs": [
    {
     "name": "stdout",
     "output_type": "stream",
     "text": [
      "Simple function\n"
     ]
    }
   ],
   "source": [
    "simple ()"
   ]
  },
  {
   "cell_type": "code",
   "execution_count": 32,
   "id": "5f4fdcb0",
   "metadata": {},
   "outputs": [],
   "source": [
    "def plus_six(x):\n",
    "    solution = x + 6\n",
    "    print (\"Solution\")\n",
    "    return solution"
   ]
  },
  {
   "cell_type": "code",
   "execution_count": 33,
   "id": "912284ae",
   "metadata": {},
   "outputs": [
    {
     "name": "stdout",
     "output_type": "stream",
     "text": [
      "Solution\n"
     ]
    },
    {
     "data": {
      "text/plain": [
       "12"
      ]
     },
     "execution_count": 33,
     "metadata": {},
     "output_type": "execute_result"
    }
   ],
   "source": [
    "plus_six(6)"
   ]
  },
  {
   "cell_type": "code",
   "execution_count": 34,
   "id": "95a56efa",
   "metadata": {},
   "outputs": [],
   "source": [
    "def salary(per_hour):\n",
    "    return per_hour * 30\n",
    "\n",
    "def over_time(per_hour):\n",
    "    return salary(per_hour) + 10"
   ]
  },
  {
   "cell_type": "code",
   "execution_count": 35,
   "id": "13322cf8",
   "metadata": {},
   "outputs": [
    {
     "data": {
      "text/plain": [
       "(300, 310)"
      ]
     },
     "execution_count": 35,
     "metadata": {},
     "output_type": "execute_result"
    }
   ],
   "source": [
    "salary(10), over_time(10)"
   ]
  },
  {
   "cell_type": "code",
   "execution_count": 37,
   "id": "af0f36e6",
   "metadata": {},
   "outputs": [],
   "source": [
    "def extra_money(e):\n",
    "    if e >= 100:\n",
    "        e = e + 10\n",
    "        return e\n",
    "    else:\n",
    "        print(\"Save Money\")"
   ]
  },
  {
   "cell_type": "code",
   "execution_count": 38,
   "id": "b84259be",
   "metadata": {},
   "outputs": [
    {
     "data": {
      "text/plain": [
       "111"
      ]
     },
     "execution_count": 38,
     "metadata": {},
     "output_type": "execute_result"
    }
   ],
   "source": [
    "extra_money(101)"
   ]
  },
  {
   "cell_type": "code",
   "execution_count": 39,
   "id": "5717b0b7",
   "metadata": {},
   "outputs": [
    {
     "name": "stdout",
     "output_type": "stream",
     "text": [
      "Save Money\n"
     ]
    }
   ],
   "source": [
    "extra_money(10)"
   ]
  },
  {
   "cell_type": "code",
   "execution_count": 40,
   "id": "e7e7f07e",
   "metadata": {},
   "outputs": [],
   "source": [
    "def adition(a,b,c):\n",
    "    result = a + b + c\n",
    "    print (\"Parameter a is\", a)\n",
    "    print (\"Parameter b is\", b)\n",
    "    print (\"Parameter c is\", c)\n",
    "    return result"
   ]
  },
  {
   "cell_type": "code",
   "execution_count": 41,
   "id": "4003910b",
   "metadata": {},
   "outputs": [
    {
     "name": "stdout",
     "output_type": "stream",
     "text": [
      "Parameter a is 1\n",
      "Parameter b is 2\n",
      "Parameter c is 3\n"
     ]
    },
    {
     "data": {
      "text/plain": [
       "6"
      ]
     },
     "execution_count": 41,
     "metadata": {},
     "output_type": "execute_result"
    }
   ],
   "source": [
    "adition(1,2,3)"
   ]
  },
  {
   "cell_type": "code",
   "execution_count": 42,
   "id": "0a718f41",
   "metadata": {},
   "outputs": [
    {
     "data": {
      "text/plain": [
       "10.256"
      ]
     },
     "execution_count": 42,
     "metadata": {},
     "output_type": "execute_result"
    }
   ],
   "source": [
    "abs(10.256)"
   ]
  },
  {
   "cell_type": "code",
   "execution_count": 44,
   "id": "5241be59",
   "metadata": {},
   "outputs": [
    {
     "data": {
      "text/plain": [
       "10.256"
      ]
     },
     "execution_count": 44,
     "metadata": {},
     "output_type": "execute_result"
    }
   ],
   "source": [
    "abs(-10.256)"
   ]
  },
  {
   "cell_type": "code",
   "execution_count": 47,
   "id": "f354f9c0",
   "metadata": {},
   "outputs": [],
   "source": [
    "list_1 = [10,20,30,40]"
   ]
  },
  {
   "cell_type": "code",
   "execution_count": 48,
   "id": "e0b227b1",
   "metadata": {},
   "outputs": [
    {
     "data": {
      "text/plain": [
       "100"
      ]
     },
     "execution_count": 48,
     "metadata": {},
     "output_type": "execute_result"
    }
   ],
   "source": [
    "sum (list_1)"
   ]
  },
  {
   "cell_type": "code",
   "execution_count": 50,
   "id": "ff4fa73b",
   "metadata": {},
   "outputs": [
    {
     "data": {
      "text/plain": [
       "2.57"
      ]
     },
     "execution_count": 50,
     "metadata": {},
     "output_type": "execute_result"
    }
   ],
   "source": [
    "round(2.5658,2)"
   ]
  },
  {
   "cell_type": "code",
   "execution_count": 55,
   "id": "d70b53ad",
   "metadata": {},
   "outputs": [
    {
     "data": {
      "text/plain": [
       "3"
      ]
     },
     "execution_count": 55,
     "metadata": {},
     "output_type": "execute_result"
    }
   ],
   "source": [
    "round (2.6)"
   ]
  },
  {
   "cell_type": "code",
   "execution_count": 56,
   "id": "caa02379",
   "metadata": {},
   "outputs": [
    {
     "data": {
      "text/plain": [
       "1024"
      ]
     },
     "execution_count": 56,
     "metadata": {},
     "output_type": "execute_result"
    }
   ],
   "source": [
    "pow(2,10)"
   ]
  },
  {
   "cell_type": "code",
   "execution_count": 58,
   "id": "f60bc563",
   "metadata": {},
   "outputs": [
    {
     "data": {
      "text/plain": [
       "6"
      ]
     },
     "execution_count": 58,
     "metadata": {},
     "output_type": "execute_result"
    }
   ],
   "source": [
    " len(\"Aditya\")"
   ]
  },
  {
   "cell_type": "code",
   "execution_count": 59,
   "id": "7873c9d4",
   "metadata": {},
   "outputs": [],
   "source": [
    "Name = 'Aditya'"
   ]
  },
  {
   "cell_type": "code",
   "execution_count": 60,
   "id": "4b469a5e",
   "metadata": {},
   "outputs": [
    {
     "data": {
      "text/plain": [
       "'t'"
      ]
     },
     "execution_count": 60,
     "metadata": {},
     "output_type": "execute_result"
    }
   ],
   "source": [
    "Name [3]"
   ]
  },
  {
   "cell_type": "code",
   "execution_count": 61,
   "id": "3b98620e",
   "metadata": {},
   "outputs": [
    {
     "data": {
      "text/plain": [
       "['Aditya', 'Ravina', 'Ruchi', 'Yuvraj']"
      ]
     },
     "execution_count": 61,
     "metadata": {},
     "output_type": "execute_result"
    }
   ],
   "source": [
    "Team = ['Aditya', 'Ravina', 'Ruchi', 'Yuvraj']\n",
    "Team"
   ]
  },
  {
   "cell_type": "code",
   "execution_count": 62,
   "id": "62376124",
   "metadata": {},
   "outputs": [
    {
     "data": {
      "text/plain": [
       "'Aditya'"
      ]
     },
     "execution_count": 62,
     "metadata": {},
     "output_type": "execute_result"
    }
   ],
   "source": [
    "Team [0]"
   ]
  },
  {
   "cell_type": "code",
   "execution_count": 63,
   "id": "06f130ef",
   "metadata": {},
   "outputs": [
    {
     "data": {
      "text/plain": [
       "'Aditya'"
      ]
     },
     "execution_count": 63,
     "metadata": {},
     "output_type": "execute_result"
    }
   ],
   "source": [
    "Team[-4]"
   ]
  },
  {
   "cell_type": "code",
   "execution_count": 64,
   "id": "23b1f518",
   "metadata": {},
   "outputs": [
    {
     "data": {
      "text/plain": [
       "'Ruchi'"
      ]
     },
     "execution_count": 64,
     "metadata": {},
     "output_type": "execute_result"
    }
   ],
   "source": [
    "Team[-2]"
   ]
  },
  {
   "cell_type": "code",
   "execution_count": 65,
   "id": "a7e28b7a",
   "metadata": {},
   "outputs": [
    {
     "data": {
      "text/plain": [
       "['Adi', 'Ravina', 'Ruchi', 'Yuvraj']"
      ]
     },
     "execution_count": 65,
     "metadata": {},
     "output_type": "execute_result"
    }
   ],
   "source": [
    "Team[0] = 'Adi'\n",
    "Team"
   ]
  },
  {
   "cell_type": "code",
   "execution_count": null,
   "id": "1437c29f",
   "metadata": {},
   "outputs": [],
   "source": []
  }
 ],
 "metadata": {
  "kernelspec": {
   "display_name": "Python 3 (ipykernel)",
   "language": "python",
   "name": "python3"
  },
  "language_info": {
   "codemirror_mode": {
    "name": "ipython",
    "version": 3
   },
   "file_extension": ".py",
   "mimetype": "text/x-python",
   "name": "python",
   "nbconvert_exporter": "python",
   "pygments_lexer": "ipython3",
   "version": "3.10.9"
  }
 },
 "nbformat": 4,
 "nbformat_minor": 5
}
