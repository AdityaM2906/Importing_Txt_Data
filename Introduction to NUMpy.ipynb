{
 "cells": [
  {
   "cell_type": "code",
   "execution_count": 1,
   "id": "8d34f1f2",
   "metadata": {},
   "outputs": [],
   "source": [
    "import numpy as np"
   ]
  },
  {
   "cell_type": "code",
   "execution_count": 2,
   "id": "33480915",
   "metadata": {},
   "outputs": [],
   "source": [
    "s = 5"
   ]
  },
  {
   "cell_type": "code",
   "execution_count": 3,
   "id": "51ea3dcf",
   "metadata": {},
   "outputs": [
    {
     "data": {
      "text/plain": [
       "5"
      ]
     },
     "execution_count": 3,
     "metadata": {},
     "output_type": "execute_result"
    }
   ],
   "source": [
    "s"
   ]
  },
  {
   "cell_type": "code",
   "execution_count": 4,
   "id": "16267e62",
   "metadata": {},
   "outputs": [],
   "source": [
    "v = np.array([5, -2, 4])"
   ]
  },
  {
   "cell_type": "code",
   "execution_count": 5,
   "id": "16a859f3",
   "metadata": {},
   "outputs": [
    {
     "data": {
      "text/plain": [
       "array([ 5, -2,  4])"
      ]
     },
     "execution_count": 5,
     "metadata": {},
     "output_type": "execute_result"
    }
   ],
   "source": [
    "v"
   ]
  },
  {
   "cell_type": "code",
   "execution_count": 7,
   "id": "66da7b63",
   "metadata": {},
   "outputs": [],
   "source": [
    "m = np.array([[5, 12, 6],[-3, 0, 14]])"
   ]
  },
  {
   "cell_type": "code",
   "execution_count": 8,
   "id": "1d80c5f6",
   "metadata": {},
   "outputs": [
    {
     "data": {
      "text/plain": [
       "array([[ 5, 12,  6],\n",
       "       [-3,  0, 14]])"
      ]
     },
     "execution_count": 8,
     "metadata": {},
     "output_type": "execute_result"
    }
   ],
   "source": [
    "m"
   ]
  },
  {
   "cell_type": "code",
   "execution_count": 9,
   "id": "c2e83adc",
   "metadata": {},
   "outputs": [
    {
     "data": {
      "text/plain": [
       "numpy.ndarray"
      ]
     },
     "execution_count": 9,
     "metadata": {},
     "output_type": "execute_result"
    }
   ],
   "source": [
    "type(m)"
   ]
  },
  {
   "cell_type": "code",
   "execution_count": 10,
   "id": "303eae48",
   "metadata": {},
   "outputs": [
    {
     "data": {
      "text/plain": [
       "numpy.ndarray"
      ]
     },
     "execution_count": 10,
     "metadata": {},
     "output_type": "execute_result"
    }
   ],
   "source": [
    "type(v)"
   ]
  },
  {
   "cell_type": "code",
   "execution_count": 11,
   "id": "caf6225b",
   "metadata": {},
   "outputs": [
    {
     "data": {
      "text/plain": [
       "int"
      ]
     },
     "execution_count": 11,
     "metadata": {},
     "output_type": "execute_result"
    }
   ],
   "source": [
    "type(s)"
   ]
  },
  {
   "cell_type": "code",
   "execution_count": 12,
   "id": "aea9e294",
   "metadata": {},
   "outputs": [],
   "source": [
    "s_array = np.array(6)"
   ]
  },
  {
   "cell_type": "code",
   "execution_count": 13,
   "id": "6d9b72e3",
   "metadata": {},
   "outputs": [
    {
     "data": {
      "text/plain": [
       "int"
      ]
     },
     "execution_count": 13,
     "metadata": {},
     "output_type": "execute_result"
    }
   ],
   "source": [
    "type(s)"
   ]
  },
  {
   "cell_type": "code",
   "execution_count": 14,
   "id": "7b651861",
   "metadata": {},
   "outputs": [
    {
     "data": {
      "text/plain": [
       "numpy.ndarray"
      ]
     },
     "execution_count": 14,
     "metadata": {},
     "output_type": "execute_result"
    }
   ],
   "source": [
    "type(s_array)"
   ]
  },
  {
   "cell_type": "code",
   "execution_count": 15,
   "id": "8ff4a604",
   "metadata": {},
   "outputs": [
    {
     "data": {
      "text/plain": [
       "array(6)"
      ]
     },
     "execution_count": 15,
     "metadata": {},
     "output_type": "execute_result"
    }
   ],
   "source": [
    "s_array"
   ]
  },
  {
   "cell_type": "code",
   "execution_count": 16,
   "id": "9e505b16",
   "metadata": {},
   "outputs": [
    {
     "data": {
      "text/plain": [
       "(2, 3)"
      ]
     },
     "execution_count": 16,
     "metadata": {},
     "output_type": "execute_result"
    }
   ],
   "source": [
    "m.shape"
   ]
  },
  {
   "cell_type": "code",
   "execution_count": 17,
   "id": "5be9c147",
   "metadata": {},
   "outputs": [
    {
     "data": {
      "text/plain": [
       "(3,)"
      ]
     },
     "execution_count": 17,
     "metadata": {},
     "output_type": "execute_result"
    }
   ],
   "source": [
    "v.shape"
   ]
  },
  {
   "cell_type": "code",
   "execution_count": 18,
   "id": "8f3f9f17",
   "metadata": {},
   "outputs": [
    {
     "data": {
      "text/plain": [
       "array([[ 5, -2,  4]])"
      ]
     },
     "execution_count": 18,
     "metadata": {},
     "output_type": "execute_result"
    }
   ],
   "source": [
    "v.reshape(1, 3)"
   ]
  },
  {
   "cell_type": "code",
   "execution_count": 19,
   "id": "2802ba1b",
   "metadata": {},
   "outputs": [
    {
     "data": {
      "text/plain": [
       "array([[ 5],\n",
       "       [-2],\n",
       "       [ 4]])"
      ]
     },
     "execution_count": 19,
     "metadata": {},
     "output_type": "execute_result"
    }
   ],
   "source": [
    "v.reshape(3,1)"
   ]
  },
  {
   "cell_type": "code",
   "execution_count": 20,
   "id": "f3c8d138",
   "metadata": {},
   "outputs": [
    {
     "data": {
      "text/plain": [
       "array([[ 5, 12],\n",
       "       [ 6, -3],\n",
       "       [ 0, 14]])"
      ]
     },
     "execution_count": 20,
     "metadata": {},
     "output_type": "execute_result"
    }
   ],
   "source": [
    "m.reshape(3,2)"
   ]
  },
  {
   "cell_type": "code",
   "execution_count": 21,
   "id": "a39a7bda",
   "metadata": {},
   "outputs": [
    {
     "data": {
      "text/plain": [
       "array([[ 5, 12,  6],\n",
       "       [-3,  0, 14]])"
      ]
     },
     "execution_count": 21,
     "metadata": {},
     "output_type": "execute_result"
    }
   ],
   "source": [
    "m.reshape(2,3)"
   ]
  },
  {
   "cell_type": "code",
   "execution_count": 22,
   "id": "a2127275",
   "metadata": {},
   "outputs": [
    {
     "ename": "AttributeError",
     "evalue": "'int' object has no attribute 'shape'",
     "output_type": "error",
     "traceback": [
      "\u001b[1;31m---------------------------------------------------------------------------\u001b[0m",
      "\u001b[1;31mAttributeError\u001b[0m                            Traceback (most recent call last)",
      "Cell \u001b[1;32mIn[22], line 1\u001b[0m\n\u001b[1;32m----> 1\u001b[0m \u001b[43ms\u001b[49m\u001b[38;5;241;43m.\u001b[39;49m\u001b[43mshape\u001b[49m\n",
      "\u001b[1;31mAttributeError\u001b[0m: 'int' object has no attribute 'shape'"
     ]
    }
   ],
   "source": [
    "s.shape"
   ]
  },
  {
   "cell_type": "code",
   "execution_count": 23,
   "id": "d697ad86",
   "metadata": {},
   "outputs": [
    {
     "data": {
      "text/plain": [
       "()"
      ]
     },
     "execution_count": 23,
     "metadata": {},
     "output_type": "execute_result"
    }
   ],
   "source": [
    "s_array.shape"
   ]
  },
  {
   "cell_type": "code",
   "execution_count": 24,
   "id": "d4bfecbe",
   "metadata": {},
   "outputs": [
    {
     "data": {
      "text/plain": [
       "array([[ 5, 12,  6],\n",
       "       [-3,  0, 14]])"
      ]
     },
     "execution_count": 24,
     "metadata": {},
     "output_type": "execute_result"
    }
   ],
   "source": [
    "m1 = np.array([[5, 12, 6],[-3, 0, 14]])\n",
    "m1"
   ]
  },
  {
   "cell_type": "code",
   "execution_count": 25,
   "id": "afe4a6f6",
   "metadata": {},
   "outputs": [
    {
     "data": {
      "text/plain": [
       "array([[ 9,  8,  7],\n",
       "       [ 1,  3, -5]])"
      ]
     },
     "execution_count": 25,
     "metadata": {},
     "output_type": "execute_result"
    }
   ],
   "source": [
    "m2 = np.array([[9, 8, 7],[1,3,-5]])\n",
    "m2"
   ]
  },
  {
   "cell_type": "code",
   "execution_count": 27,
   "id": "a2e41c04",
   "metadata": {},
   "outputs": [],
   "source": [
    "m3 = np.array([m1,m2])"
   ]
  },
  {
   "cell_type": "code",
   "execution_count": 28,
   "id": "08c838de",
   "metadata": {},
   "outputs": [
    {
     "data": {
      "text/plain": [
       "array([[[ 5, 12,  6],\n",
       "        [-3,  0, 14]],\n",
       "\n",
       "       [[ 9,  8,  7],\n",
       "        [ 1,  3, -5]]])"
      ]
     },
     "execution_count": 28,
     "metadata": {},
     "output_type": "execute_result"
    }
   ],
   "source": [
    "m3"
   ]
  },
  {
   "cell_type": "code",
   "execution_count": 29,
   "id": "f8899f7e",
   "metadata": {},
   "outputs": [
    {
     "data": {
      "text/plain": [
       "(2, 2, 3)"
      ]
     },
     "execution_count": 29,
     "metadata": {},
     "output_type": "execute_result"
    }
   ],
   "source": [
    "m3.shape"
   ]
  },
  {
   "cell_type": "code",
   "execution_count": 6,
   "id": "399acec4",
   "metadata": {},
   "outputs": [
    {
     "name": "stdout",
     "output_type": "stream",
     "text": [
      "[[ 5 12  6]\n",
      " [-3  0 14]]\n",
      "[[9 8 7]\n",
      " [1 3 5]]\n"
     ]
    }
   ],
   "source": [
    "import numpy as np\n",
    "m1 = np.array([[5,12,6],[-3,0,14]])\n",
    "m2 = np.array([[9,8,7],[1,3,5]])\n",
    "print(m1)\n",
    "print(m2)"
   ]
  },
  {
   "cell_type": "code",
   "execution_count": 7,
   "id": "e322c8f5",
   "metadata": {},
   "outputs": [
    {
     "data": {
      "text/plain": [
       "array([[14, 20, 13],\n",
       "       [-2,  3, 19]])"
      ]
     },
     "execution_count": 7,
     "metadata": {},
     "output_type": "execute_result"
    }
   ],
   "source": [
    "m1 + m2"
   ]
  },
  {
   "cell_type": "code",
   "execution_count": 10,
   "id": "01d9cb73",
   "metadata": {},
   "outputs": [
    {
     "data": {
      "text/plain": [
       "(array([[ 5,  3],\n",
       "        [-2,  4]]),\n",
       " array([[ 7, -5],\n",
       "        [ 3,  8]]))"
      ]
     },
     "execution_count": 10,
     "metadata": {},
     "output_type": "execute_result"
    }
   ],
   "source": [
    "ma = np.array([[5,3],[-2,4]])\n",
    "mb = np.array([[7,-5],[3,8]])\n",
    "ma,mb"
   ]
  },
  {
   "cell_type": "code",
   "execution_count": 11,
   "id": "5b3de1d7",
   "metadata": {},
   "outputs": [
    {
     "data": {
      "text/plain": [
       "array([[-2,  8],\n",
       "       [-5, -4]])"
      ]
     },
     "execution_count": 11,
     "metadata": {},
     "output_type": "execute_result"
    }
   ],
   "source": [
    "ma-mb"
   ]
  },
  {
   "cell_type": "code",
   "execution_count": 12,
   "id": "192beeee",
   "metadata": {},
   "outputs": [
    {
     "data": {
      "text/plain": [
       "array([[ 5, 12,  6],\n",
       "       [-3,  0, 14]])"
      ]
     },
     "execution_count": 12,
     "metadata": {},
     "output_type": "execute_result"
    }
   ],
   "source": [
    "A = np.array([[5,12,6],[-3,0,14]])\n",
    "A"
   ]
  },
  {
   "cell_type": "code",
   "execution_count": 13,
   "id": "154b5b23",
   "metadata": {},
   "outputs": [
    {
     "data": {
      "text/plain": [
       "array([[ 5, -3],\n",
       "       [12,  0],\n",
       "       [ 6, 14]])"
      ]
     },
     "execution_count": 13,
     "metadata": {},
     "output_type": "execute_result"
    }
   ],
   "source": [
    "A.T"
   ]
  },
  {
   "cell_type": "code",
   "execution_count": 14,
   "id": "2f55b696",
   "metadata": {},
   "outputs": [
    {
     "data": {
      "text/plain": [
       "array([1, 2, 3])"
      ]
     },
     "execution_count": 14,
     "metadata": {},
     "output_type": "execute_result"
    }
   ],
   "source": [
    "V = np.array([1,2,3])\n",
    "V"
   ]
  },
  {
   "cell_type": "code",
   "execution_count": 15,
   "id": "19457ad7",
   "metadata": {},
   "outputs": [
    {
     "data": {
      "text/plain": [
       "(3,)"
      ]
     },
     "execution_count": 15,
     "metadata": {},
     "output_type": "execute_result"
    }
   ],
   "source": [
    "V.shape"
   ]
  },
  {
   "cell_type": "code",
   "execution_count": 18,
   "id": "65cbcb42",
   "metadata": {},
   "outputs": [],
   "source": [
    "reshape_V = V.reshape(1,3)"
   ]
  },
  {
   "cell_type": "code",
   "execution_count": 19,
   "id": "fcb5a753",
   "metadata": {},
   "outputs": [
    {
     "data": {
      "text/plain": [
       "array([[1, 2, 3]])"
      ]
     },
     "execution_count": 19,
     "metadata": {},
     "output_type": "execute_result"
    }
   ],
   "source": [
    "reshape_V"
   ]
  },
  {
   "cell_type": "code",
   "execution_count": 20,
   "id": "52f9537a",
   "metadata": {},
   "outputs": [
    {
     "data": {
      "text/plain": [
       "array([[1],\n",
       "       [2],\n",
       "       [3]])"
      ]
     },
     "execution_count": 20,
     "metadata": {},
     "output_type": "execute_result"
    }
   ],
   "source": [
    "reshape_V.T"
   ]
  },
  {
   "cell_type": "code",
   "execution_count": 30,
   "id": "c5b80b1f",
   "metadata": {},
   "outputs": [],
   "source": [
    "x = np.array([2,8,-4])\n",
    "y = np.array([1,-7,3])"
   ]
  },
  {
   "cell_type": "code",
   "execution_count": 31,
   "id": "7d0a30f6",
   "metadata": {},
   "outputs": [
    {
     "data": {
      "text/plain": [
       "-66"
      ]
     },
     "execution_count": 31,
     "metadata": {},
     "output_type": "execute_result"
    }
   ],
   "source": [
    "np.dot(x,y)"
   ]
  },
  {
   "cell_type": "code",
   "execution_count": 32,
   "id": "a2867577",
   "metadata": {},
   "outputs": [
    {
     "data": {
      "text/plain": [
       "array([ 2,  8, -4])"
      ]
     },
     "execution_count": 32,
     "metadata": {},
     "output_type": "execute_result"
    }
   ],
   "source": [
    "x"
   ]
  },
  {
   "cell_type": "code",
   "execution_count": 33,
   "id": "a7af2914",
   "metadata": {},
   "outputs": [
    {
     "data": {
      "text/plain": [
       "array([ 10,  40, -20])"
      ]
     },
     "execution_count": 33,
     "metadata": {},
     "output_type": "execute_result"
    }
   ],
   "source": [
    "5 * x"
   ]
  },
  {
   "cell_type": "code",
   "execution_count": 34,
   "id": "ad7ebe59",
   "metadata": {},
   "outputs": [],
   "source": [
    "x1 = np.array([[5,12,6],[-3,0,14]])\n",
    "x2 = np.array([[2,-1],[8,0],[3,0]])"
   ]
  },
  {
   "cell_type": "code",
   "execution_count": 35,
   "id": "d5fafc0d",
   "metadata": {},
   "outputs": [
    {
     "data": {
      "text/plain": [
       "array([[124,  -5],\n",
       "       [ 36,   3]])"
      ]
     },
     "execution_count": 35,
     "metadata": {},
     "output_type": "execute_result"
    }
   ],
   "source": [
    "np.dot(x1,x2)"
   ]
  },
  {
   "cell_type": "code",
   "execution_count": null,
   "id": "663b2402",
   "metadata": {},
   "outputs": [],
   "source": []
  }
 ],
 "metadata": {
  "kernelspec": {
   "display_name": "Python 3 (ipykernel)",
   "language": "python",
   "name": "python3"
  },
  "language_info": {
   "codemirror_mode": {
    "name": "ipython",
    "version": 3
   },
   "file_extension": ".py",
   "mimetype": "text/x-python",
   "name": "python",
   "nbconvert_exporter": "python",
   "pygments_lexer": "ipython3",
   "version": "3.10.9"
  }
 },
 "nbformat": 4,
 "nbformat_minor": 5
}
